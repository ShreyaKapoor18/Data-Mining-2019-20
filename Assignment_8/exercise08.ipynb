{
 "cells": [
  {
   "cell_type": "markdown",
   "metadata": {},
   "source": [
    "# Regularization\n",
    "## Ridge, LASSO and Elastic Net Regression"
   ]
  },
  {
   "cell_type": "code",
   "execution_count": 1,
   "metadata": {},
   "outputs": [],
   "source": [
    "import pandas as pd\n",
    "import numpy as np\n",
    "import matplotlib\n",
    "import matplotlib.pyplot as plt\n",
    "from sklearn.linear_model import LogisticRegression\n",
    "from sklearn.linear_model import LogisticRegressionCV \n",
    "from sklearn.model_selection import GridSearchCV\n",
    "from sklearn.model_selection import train_test_split\n",
    "import seaborn as sns\n",
    "from sklearn import preprocessing\n",
    "from sklearn.metrics import confusion_matrix\n",
    "from sklearn.metrics import precision_recall_curve\n",
    "from sklearn import metrics\n",
    "import warnings"
   ]
  },
  {
   "cell_type": "code",
   "execution_count": 2,
   "metadata": {},
   "outputs": [],
   "source": [
    "data = pd.read_csv('https://web.stanford.edu/%7Ehastie/CASI_files/DATA/leukemia_small.csv', header = None)"
   ]
  },
  {
   "cell_type": "code",
   "execution_count": 3,
   "metadata": {},
   "outputs": [
    {
     "name": "stdout",
     "output_type": "stream",
     "text": [
      "Shape: (72, 3572)\n"
     ]
    },
    {
     "data": {
      "text/html": [
       "<div>\n",
       "<style scoped>\n",
       "    .dataframe tbody tr th:only-of-type {\n",
       "        vertical-align: middle;\n",
       "    }\n",
       "\n",
       "    .dataframe tbody tr th {\n",
       "        vertical-align: top;\n",
       "    }\n",
       "\n",
       "    .dataframe thead th {\n",
       "        text-align: right;\n",
       "    }\n",
       "</style>\n",
       "<table border=\"1\" class=\"dataframe\">\n",
       "  <thead>\n",
       "    <tr style=\"text-align: right;\">\n",
       "      <th></th>\n",
       "      <th>0</th>\n",
       "      <th>1</th>\n",
       "      <th>2</th>\n",
       "      <th>3</th>\n",
       "      <th>4</th>\n",
       "      <th>5</th>\n",
       "      <th>6</th>\n",
       "      <th>7</th>\n",
       "      <th>8</th>\n",
       "      <th>9</th>\n",
       "      <th>...</th>\n",
       "      <th>3562</th>\n",
       "      <th>3563</th>\n",
       "      <th>3564</th>\n",
       "      <th>3565</th>\n",
       "      <th>3566</th>\n",
       "      <th>3567</th>\n",
       "      <th>3568</th>\n",
       "      <th>3569</th>\n",
       "      <th>3570</th>\n",
       "      <th>3571</th>\n",
       "    </tr>\n",
       "  </thead>\n",
       "  <tbody>\n",
       "    <tr>\n",
       "      <th>0</th>\n",
       "      <td>0</td>\n",
       "      <td>0.561549117</td>\n",
       "      <td>0.213566469</td>\n",
       "      <td>-0.636584194</td>\n",
       "      <td>0.34712398</td>\n",
       "      <td>0.545508929</td>\n",
       "      <td>1.720234943</td>\n",
       "      <td>1.855733316</td>\n",
       "      <td>1.800898906</td>\n",
       "      <td>0.109674775</td>\n",
       "      <td>...</td>\n",
       "      <td>0.046676217</td>\n",
       "      <td>0.126566848</td>\n",
       "      <td>0.61284668</td>\n",
       "      <td>0.443501521</td>\n",
       "      <td>0.859034625</td>\n",
       "      <td>-0.672449451</td>\n",
       "      <td>0.150162632</td>\n",
       "      <td>0.068992444</td>\n",
       "      <td>0.129262921</td>\n",
       "      <td>-0.533469501</td>\n",
       "    </tr>\n",
       "    <tr>\n",
       "      <th>1</th>\n",
       "      <td>0</td>\n",
       "      <td>-0.623141166</td>\n",
       "      <td>-0.912107005</td>\n",
       "      <td>-0.465296101</td>\n",
       "      <td>-0.734344627</td>\n",
       "      <td>-0.539898208</td>\n",
       "      <td>0.000112247</td>\n",
       "      <td>-0.717582533</td>\n",
       "      <td>0.733660606</td>\n",
       "      <td>0.018899509</td>\n",
       "      <td>...</td>\n",
       "      <td>-0.180748586</td>\n",
       "      <td>-0.146952384</td>\n",
       "      <td>-0.453801419</td>\n",
       "      <td>-0.527682479</td>\n",
       "      <td>-0.457938679</td>\n",
       "      <td>0.41200043</td>\n",
       "      <td>0.392065095</td>\n",
       "      <td>0.054326025</td>\n",
       "      <td>0.007136491</td>\n",
       "      <td>-1.14837176</td>\n",
       "    </tr>\n",
       "    <tr>\n",
       "      <th>2</th>\n",
       "      <td>0</td>\n",
       "      <td>-0.814523716</td>\n",
       "      <td>-1.084069278</td>\n",
       "      <td>-0.583126554</td>\n",
       "      <td>1.785912462</td>\n",
       "      <td>1.445063581</td>\n",
       "      <td>1.099342014</td>\n",
       "      <td>1.111595335</td>\n",
       "      <td>1.178676098</td>\n",
       "      <td>-0.193477159</td>\n",
       "      <td>...</td>\n",
       "      <td>-0.813904039</td>\n",
       "      <td>0.620945453</td>\n",
       "      <td>1.117184336</td>\n",
       "      <td>1.572018162</td>\n",
       "      <td>-0.355646467</td>\n",
       "      <td>0.921389555</td>\n",
       "      <td>-1.207114119</td>\n",
       "      <td>0.479036165</td>\n",
       "      <td>1.546483562</td>\n",
       "      <td>-0.391755427</td>\n",
       "    </tr>\n",
       "    <tr>\n",
       "      <th>3</th>\n",
       "      <td>0</td>\n",
       "      <td>0.229492381</td>\n",
       "      <td>-0.965718987</td>\n",
       "      <td>-0.525059929</td>\n",
       "      <td>-0.188015918</td>\n",
       "      <td>-0.534602564</td>\n",
       "      <td>1.177446527</td>\n",
       "      <td>1.057922482</td>\n",
       "      <td>1.126832141</td>\n",
       "      <td>0.289005757</td>\n",
       "      <td>...</td>\n",
       "      <td>0.549908346</td>\n",
       "      <td>-1.229743055</td>\n",
       "      <td>0.739718957</td>\n",
       "      <td>0.115689911</td>\n",
       "      <td>-0.110720075</td>\n",
       "      <td>0.58166393</td>\n",
       "      <td>-1.001331703</td>\n",
       "      <td>-0.197116777</td>\n",
       "      <td>-0.99098939</td>\n",
       "      <td>-0.924844881</td>\n",
       "    </tr>\n",
       "    <tr>\n",
       "      <th>4</th>\n",
       "      <td>0</td>\n",
       "      <td>-0.706015947</td>\n",
       "      <td>0.660883502</td>\n",
       "      <td>-0.54830598</td>\n",
       "      <td>-0.702839796</td>\n",
       "      <td>-0.285707195</td>\n",
       "      <td>0.428307284</td>\n",
       "      <td>1.144896622</td>\n",
       "      <td>-0.180164381</td>\n",
       "      <td>0.194169286</td>\n",
       "      <td>...</td>\n",
       "      <td>-1.211261974</td>\n",
       "      <td>-1.909516646</td>\n",
       "      <td>-1.208151131</td>\n",
       "      <td>-1.095057381</td>\n",
       "      <td>-0.391333666</td>\n",
       "      <td>-0.023814393</td>\n",
       "      <td>0.639459917</td>\n",
       "      <td>-1.816627149</td>\n",
       "      <td>0.140518859</td>\n",
       "      <td>-1.194537186</td>\n",
       "    </tr>\n",
       "  </tbody>\n",
       "</table>\n",
       "<p>5 rows × 3572 columns</p>\n",
       "</div>"
      ],
      "text/plain": [
       "   0             1             2             3             4             5     \\\n",
       "0     0   0.561549117   0.213566469  -0.636584194    0.34712398   0.545508929   \n",
       "1     0  -0.623141166  -0.912107005  -0.465296101  -0.734344627  -0.539898208   \n",
       "2     0  -0.814523716  -1.084069278  -0.583126554   1.785912462   1.445063581   \n",
       "3     0   0.229492381  -0.965718987  -0.525059929  -0.188015918  -0.534602564   \n",
       "4     0  -0.706015947   0.660883502   -0.54830598  -0.702839796  -0.285707195   \n",
       "\n",
       "          6             7             8             9     ...          3562  \\\n",
       "0  1.720234943   1.855733316   1.800898906   0.109674775  ...   0.046676217   \n",
       "1  0.000112247  -0.717582533   0.733660606   0.018899509  ...  -0.180748586   \n",
       "2  1.099342014   1.111595335   1.178676098  -0.193477159  ...  -0.813904039   \n",
       "3  1.177446527   1.057922482   1.126832141   0.289005757  ...   0.549908346   \n",
       "4  0.428307284   1.144896622  -0.180164381   0.194169286  ...  -1.211261974   \n",
       "\n",
       "           3563          3564          3565          3566          3567  \\\n",
       "0   0.126566848    0.61284668   0.443501521   0.859034625  -0.672449451   \n",
       "1  -0.146952384  -0.453801419  -0.527682479  -0.457938679    0.41200043   \n",
       "2   0.620945453   1.117184336   1.572018162  -0.355646467   0.921389555   \n",
       "3  -1.229743055   0.739718957   0.115689911  -0.110720075    0.58166393   \n",
       "4  -1.909516646  -1.208151131  -1.095057381  -0.391333666  -0.023814393   \n",
       "\n",
       "           3568          3569         3570          3571  \n",
       "0   0.150162632   0.068992444  0.129262921  -0.533469501  \n",
       "1   0.392065095   0.054326025  0.007136491   -1.14837176  \n",
       "2  -1.207114119   0.479036165  1.546483562  -0.391755427  \n",
       "3  -1.001331703  -0.197116777  -0.99098939  -0.924844881  \n",
       "4   0.639459917  -1.816627149  0.140518859  -1.194537186  \n",
       "\n",
       "[5 rows x 3572 columns]"
      ]
     },
     "execution_count": 3,
     "metadata": {},
     "output_type": "execute_result"
    }
   ],
   "source": [
    "df = data.transpose()\n",
    "print(f'Shape: {df.shape}')\n",
    "# convert labels:\n",
    "# ALL = 0\n",
    "# AML = 1\n",
    "df[0] = df[0].map({'ALL': 0, 'AML': 1})\n",
    "df.head()\n"
   ]
  },
  {
   "cell_type": "markdown",
   "metadata": {},
   "source": [
    "As we classify in two leukemia classes :\n",
    "- ALL (0): Acute lymphocytic leukemia (most common type of childhood leukemia)\n",
    "- AML (1): Acute myelocytic leukemia (most common type for older people)\n",
    "false positives and false negatives matter equally. Therefore we should consider the F1 score which takes both recall and precision into account."
   ]
  },
  {
   "cell_type": "code",
   "execution_count": 4,
   "metadata": {},
   "outputs": [
    {
     "name": "stdout",
     "output_type": "stream",
     "text": [
      "Number of patients labeled with\n",
      "ALL: 47\n",
      "AML: 25\n"
     ]
    }
   ],
   "source": [
    "ALL = df[0][df[0] == 0]\n",
    "AML = df[0][df[0] == 1]\n",
    "print(f'Number of patients labeled with\\nALL: {len(ALL)}\\nAML: {len(AML)}')"
   ]
  },
  {
   "cell_type": "code",
   "execution_count": 5,
   "metadata": {},
   "outputs": [
    {
     "data": {
      "text/html": [
       "<div>\n",
       "<style scoped>\n",
       "    .dataframe tbody tr th:only-of-type {\n",
       "        vertical-align: middle;\n",
       "    }\n",
       "\n",
       "    .dataframe tbody tr th {\n",
       "        vertical-align: top;\n",
       "    }\n",
       "\n",
       "    .dataframe thead th {\n",
       "        text-align: right;\n",
       "    }\n",
       "</style>\n",
       "<table border=\"1\" class=\"dataframe\">\n",
       "  <thead>\n",
       "    <tr style=\"text-align: right;\">\n",
       "      <th></th>\n",
       "      <th>count</th>\n",
       "      <th>mean</th>\n",
       "      <th>std</th>\n",
       "      <th>min</th>\n",
       "      <th>25%</th>\n",
       "      <th>50%</th>\n",
       "      <th>75%</th>\n",
       "      <th>max</th>\n",
       "    </tr>\n",
       "  </thead>\n",
       "  <tbody>\n",
       "    <tr>\n",
       "      <th>1</th>\n",
       "      <td>72.0</td>\n",
       "      <td>-2.777777e-11</td>\n",
       "      <td>1.0</td>\n",
       "      <td>-1.002407</td>\n",
       "      <td>-0.610318</td>\n",
       "      <td>-0.357431</td>\n",
       "      <td>0.006260</td>\n",
       "      <td>3.117518</td>\n",
       "    </tr>\n",
       "    <tr>\n",
       "      <th>2</th>\n",
       "      <td>72.0</td>\n",
       "      <td>2.777776e-11</td>\n",
       "      <td>1.0</td>\n",
       "      <td>-1.123236</td>\n",
       "      <td>-0.791791</td>\n",
       "      <td>-0.376923</td>\n",
       "      <td>0.620770</td>\n",
       "      <td>2.642169</td>\n",
       "    </tr>\n",
       "    <tr>\n",
       "      <th>3</th>\n",
       "      <td>72.0</td>\n",
       "      <td>2.777777e-11</td>\n",
       "      <td>1.0</td>\n",
       "      <td>-0.897683</td>\n",
       "      <td>-0.466929</td>\n",
       "      <td>-0.216766</td>\n",
       "      <td>0.061900</td>\n",
       "      <td>4.848568</td>\n",
       "    </tr>\n",
       "    <tr>\n",
       "      <th>4</th>\n",
       "      <td>72.0</td>\n",
       "      <td>-4.166667e-11</td>\n",
       "      <td>1.0</td>\n",
       "      <td>-1.346795</td>\n",
       "      <td>-0.705775</td>\n",
       "      <td>-0.292359</td>\n",
       "      <td>0.422711</td>\n",
       "      <td>4.139257</td>\n",
       "    </tr>\n",
       "    <tr>\n",
       "      <th>5</th>\n",
       "      <td>72.0</td>\n",
       "      <td>5.555554e-11</td>\n",
       "      <td>1.0</td>\n",
       "      <td>-2.173638</td>\n",
       "      <td>-0.576379</td>\n",
       "      <td>-0.025618</td>\n",
       "      <td>0.437952</td>\n",
       "      <td>3.065135</td>\n",
       "    </tr>\n",
       "  </tbody>\n",
       "</table>\n",
       "</div>"
      ],
      "text/plain": [
       "   count          mean  std       min       25%       50%       75%       max\n",
       "1   72.0 -2.777777e-11  1.0 -1.002407 -0.610318 -0.357431  0.006260  3.117518\n",
       "2   72.0  2.777776e-11  1.0 -1.123236 -0.791791 -0.376923  0.620770  2.642169\n",
       "3   72.0  2.777777e-11  1.0 -0.897683 -0.466929 -0.216766  0.061900  4.848568\n",
       "4   72.0 -4.166667e-11  1.0 -1.346795 -0.705775 -0.292359  0.422711  4.139257\n",
       "5   72.0  5.555554e-11  1.0 -2.173638 -0.576379 -0.025618  0.437952  3.065135"
      ]
     },
     "execution_count": 5,
     "metadata": {},
     "output_type": "execute_result"
    }
   ],
   "source": [
    "summary = df.loc[:,1:].astype(float).describe().transpose()\n",
    "summary.head()"
   ]
  },
  {
   "cell_type": "code",
   "execution_count": 6,
   "metadata": {},
   "outputs": [
    {
     "data": {
      "text/plain": [
       "<matplotlib.axes._subplots.AxesSubplot at 0x121445dd8>"
      ]
     },
     "execution_count": 6,
     "metadata": {},
     "output_type": "execute_result"
    },
    {
     "data": {
      "image/png": "[encoded data removed]",
      "text/plain": [
       "<Figure size 864x576 with 1 Axes>"
      ]
     },
     "metadata": {},
     "output_type": "display_data"
    }
   ],
   "source": [
    "matplotlib.style.use('ggplot')\n",
    "summary[['mean', 'std', 'min', '25%', '50%', '75%', 'max']].plot.box(return_type='axes', figsize=(12,8))"
   ]
  },
  {
   "cell_type": "code",
   "execution_count": 7,
   "metadata": {},
   "outputs": [
    {
     "data": {
      "text/plain": [
       "array([[<matplotlib.axes._subplots.AxesSubplot object at 0x12148e198>,\n",
       "        <matplotlib.axes._subplots.AxesSubplot object at 0x121480f98>],\n",
       "       [<matplotlib.axes._subplots.AxesSubplot object at 0x121540588>,\n",
       "        <matplotlib.axes._subplots.AxesSubplot object at 0x121e1fb38>]],\n",
       "      dtype=object)"
      ]
     },
     "execution_count": 7,
     "metadata": {},
     "output_type": "execute_result"
    },
    {
     "data": {
      "image/png": "[encoded data removed]",
      "text/plain": [
       "<Figure size 864x576 with 4 Axes>"
      ]
     },
     "metadata": {},
     "output_type": "display_data"
    }
   ],
   "source": [
    "summary[['mean', 'std', 'min', 'max']].hist(figsize = (12,8))"
   ]
  },
  {
   "cell_type": "code",
   "execution_count": 8,
   "metadata": {},
   "outputs": [],
   "source": [
    "labeled_data = pd.read_csv('https://web.stanford.edu/%7Ehastie/CASI_files/DATA/leukemia_small.csv')"
   ]
  },
  {
   "cell_type": "code",
   "execution_count": 9,
   "metadata": {},
   "outputs": [
    {
     "data": {
      "text/plain": [
       "[]"
      ]
     },
     "execution_count": 9,
     "metadata": {},
     "output_type": "execute_result"
    }
   ],
   "source": [
    "# check for nan values\n",
    "np.argwhere(df.isna().values).tolist()"
   ]
  },
  {
   "cell_type": "markdown",
   "metadata": {},
   "source": [
    "### Randomly split the AML / ALL leukemia dataset into training and test set"
   ]
  },
  {
   "cell_type": "code",
   "execution_count": 10,
   "metadata": {},
   "outputs": [],
   "source": [
    "X = df.loc[:, 1:].values # gene expression data\n",
    "y = df.loc[:, 0].values # label\n",
    "\n",
    "df_values = df.loc[:, 1:].apply(pd.to_numeric).copy()"
   ]
  },
  {
   "cell_type": "code",
   "execution_count": 11,
   "metadata": {},
   "outputs": [
    {
     "name": "stdout",
     "output_type": "stream",
     "text": [
      "(50, 3571)\n",
      "(22, 3571)\n"
     ]
    }
   ],
   "source": [
    "# create training and test set\n",
    "X_train, X_test, y_train, y_test = train_test_split(X, y, test_size = 0.3, random_state = 0)\n",
    "print(X_train.shape)\n",
    "print(X_test.shape)"
   ]
  },
  {
   "cell_type": "markdown",
   "metadata": {},
   "source": [
    "## Lasso, ridge and elastic net"
   ]
  },
  {
   "cell_type": "markdown",
   "metadata": {},
   "source": [
    "Bias-Variance-Dilemma:\n",
    "- bias (training error) and variance(complexity of the model) cannot be minimized at the same time\n",
    "- look for tradeoff between bias and variance where total error is minimal\n",
    "- yields the optimum model complexity\n",
    "\n",
    "Regularization:\n",
    "- discourages learning a more complex or flexible model to avoid the risk of overfitting"
   ]
  },
  {
   "cell_type": "markdown",
   "metadata": {},
   "source": [
    "## Initialize Classifiers\n"
   ]
  },
  {
   "cell_type": "code",
   "execution_count": 12,
   "metadata": {},
   "outputs": [],
   "source": [
    "ridge = LogisticRegression(penalty = 'l2', random_state=0, solver='lbfgs', l1_ratio = None)\n",
    "lasso = LogisticRegression(penalty = 'l1', random_state=0, solver='liblinear', l1_ratio = None)\n",
    "elasticNet = LogisticRegression(penalty = 'elasticnet', random_state=0, solver='saga', l1_ratio = 0.5) #class_weight={0: 1, 1: 2})"
   ]
  },
  {
   "cell_type": "code",
   "execution_count": 13,
   "metadata": {},
   "outputs": [
    {
     "name": "stderr",
     "output_type": "stream",
     "text": [
      "//anaconda3/lib/python3.7/site-packages/sklearn/linear_model/sag.py:337: ConvergenceWarning: The max_iter was reached which means the coef_ did not converge\n",
      "  \"the coef_ did not converge\", ConvergenceWarning)\n"
     ]
    },
    {
     "data": {
      "text/plain": [
       "LogisticRegression(C=1.0, class_weight=None, dual=False, fit_intercept=True,\n",
       "                   intercept_scaling=1, l1_ratio=0.5, max_iter=100,\n",
       "                   multi_class='warn', n_jobs=None, penalty='elasticnet',\n",
       "                   random_state=0, solver='saga', tol=0.0001, verbose=0,\n",
       "                   warm_start=False)"
      ]
     },
     "execution_count": 13,
     "metadata": {},
     "output_type": "execute_result"
    }
   ],
   "source": [
    "ridge.fit(X_train, y_train)\n",
    "lasso.fit(X_train, y_train)\n",
    "elasticNet.fit(X_train, y_train)"
   ]
  },
  {
   "cell_type": "markdown",
   "metadata": {},
   "source": [
    "## Cross Validation"
   ]
  },
  {
   "cell_type": "markdown",
   "metadata": {},
   "source": [
    "###  Use 5 fold cross validation to optimize each of the classifiers over a range of different regularization parameters using training data only"
   ]
  },
  {
   "cell_type": "code",
   "execution_count": 14,
   "metadata": {},
   "outputs": [],
   "source": [
    "# alpha = regularization strength (lambda)\n",
    "# for alpha = 0: same coefficients as for linear regression\n",
    "# for alpha = ∞: coefficients = zero because anything less than zero will make the objective infinite\n",
    "# for 0 < alpha < ∞: coefficients between 0 and 1 for simple linear regression"
   ]
  },
  {
   "cell_type": "code",
   "execution_count": 16,
   "metadata": {},
   "outputs": [
    {
     "name": "stdout",
     "output_type": "stream",
     "text": [
      "----------------------------\n",
      "Score = f1\n",
      "----------------------------\n",
      "Ridge_CV\n",
      "\n",
      "Best score for parameters set found on development set:\n",
      "1.0 for {'C': 100.0}\n",
      "\n",
      "Lasso_CV\n",
      "\n",
      "Best score for parameters set found on development set:\n",
      "1.0 for {'C': 1.0}\n",
      "\n"
     ]
    },
    {
     "name": "stderr",
     "output_type": "stream",
     "text": [
      "//anaconda3/lib/python3.7/site-packages/sklearn/linear_model/sag.py:337: ConvergenceWarning: The max_iter was reached which means the coef_ did not converge\n",
      "  \"the coef_ did not converge\", ConvergenceWarning)\n"
     ]
    },
    {
     "name": "stdout",
     "output_type": "stream",
     "text": [
      "ElasticNet_CV\n",
      "\n",
      "Best score for parameters set found on development set:\n",
      "1.0 for {'C': 0.1, 'l1_ratio': 1.0}\n",
      "\n",
      "-----------------------------\n",
      "----------------------------\n",
      "Score = make_scorer(matthews_corrcoef)\n",
      "----------------------------\n",
      "Ridge_CV\n",
      "\n",
      "Best score for parameters set found on development set:\n",
      "1.0 for {'C': 100.0}\n",
      "\n",
      "Lasso_CV\n",
      "\n",
      "Best score for parameters set found on development set:\n",
      "1.0 for {'C': 1.0}\n",
      "\n",
      "ElasticNet_CV\n",
      "\n",
      "Best score for parameters set found on development set:\n",
      "1.0 for {'C': 0.1, 'l1_ratio': 1.0}\n",
      "\n",
      "-----------------------------\n"
     ]
    },
    {
     "name": "stderr",
     "output_type": "stream",
     "text": [
      "//anaconda3/lib/python3.7/site-packages/sklearn/linear_model/sag.py:337: ConvergenceWarning: The max_iter was reached which means the coef_ did not converge\n",
      "  \"the coef_ did not converge\", ConvergenceWarning)\n"
     ]
    }
   ],
   "source": [
    "warnings.filterwarnings(\"ignore\", category=DeprecationWarning) \n",
    "\n",
    "\n",
    "# define scores\n",
    "scoring_mcc = metrics.make_scorer(\n",
    "         metrics.matthews_corrcoef,\n",
    "         greater_is_better=True,\n",
    "         needs_threshold=False)\n",
    "\n",
    "scoring = ['f1', scoring_mcc]\n",
    "names = ['F1', 'MCC']\n",
    "\n",
    "for score, name in zip(scoring, names):\n",
    "    print('----------------------------')\n",
    "    print(f'Score = {score}')\n",
    "    print('----------------------------')\n",
    "    for clf, name in zip([ridge, lasso, elasticNet], ['Ridge_CV', 'Lasso_CV','ElasticNet_CV']):\n",
    "        # define parameters to be tested \n",
    "            # C = Inverse of regularization strength\n",
    "            # l1_ratio = Elastic-Net mixing parameter\n",
    "        if clf == elasticNet:\n",
    "            param_grid = [{'C': np.logspace(-2, 5, 8), 'l1_ratio' : [i for i in np.arange(0.1, 1.1, 0.1)]}]\n",
    "        else:      \n",
    "            param_grid = [{'C': np.logspace(-2, 5, 8)}]\n",
    "        clf = GridSearchCV(clf, param_grid, cv=5, scoring = score, n_jobs=-1)\n",
    "        clf.fit(X_train, y_train)\n",
    "        print(name)\n",
    "        print()\n",
    "        print(\"Best score for parameters set found on development set:\")\n",
    "        print(f'{clf.best_score_} for {clf.best_params_}')\n",
    "        print()\n",
    "        \n",
    "    print('-----------------------------')\n",
    "\n"
   ]
  },
  {
   "cell_type": "markdown",
   "metadata": {},
   "source": [
    "## Initialize classifiers with optimized parameters  ('C': 100.0, 'l1_ratio': 0.1)"
   ]
  },
  {
   "cell_type": "code",
   "execution_count": 17,
   "metadata": {},
   "outputs": [],
   "source": [
    "ridge_cv = LogisticRegression(penalty = 'l2', random_state=0, solver='lbfgs', C = 100.0)\n",
    "lasso_cv = LogisticRegression(penalty = 'l1', random_state=0, solver='liblinear', C = 1.0)\n",
    "elasticNet_cv = LogisticRegression(penalty = 'elasticnet', random_state=0, solver='saga', C = 0.1, l1_ratio = 0.1)"
   ]
  },
  {
   "cell_type": "code",
   "execution_count": 18,
   "metadata": {},
   "outputs": [
    {
     "name": "stderr",
     "output_type": "stream",
     "text": [
      "//anaconda3/lib/python3.7/site-packages/sklearn/linear_model/sag.py:337: ConvergenceWarning: The max_iter was reached which means the coef_ did not converge\n",
      "  \"the coef_ did not converge\", ConvergenceWarning)\n"
     ]
    },
    {
     "data": {
      "text/plain": [
       "LogisticRegression(C=0.1, class_weight=None, dual=False, fit_intercept=True,\n",
       "                   intercept_scaling=1, l1_ratio=0.1, max_iter=100,\n",
       "                   multi_class='warn', n_jobs=None, penalty='elasticnet',\n",
       "                   random_state=0, solver='saga', tol=0.0001, verbose=0,\n",
       "                   warm_start=False)"
      ]
     },
     "execution_count": 18,
     "metadata": {},
     "output_type": "execute_result"
    }
   ],
   "source": [
    "ridge_cv.fit(X_train, y_train)\n",
    "lasso_cv.fit(X_train, y_train)\n",
    "elasticNet_cv.fit(X_train, y_train)"
   ]
  },
  {
   "cell_type": "markdown",
   "metadata": {},
   "source": [
    "## Predictions on test set"
   ]
  },
  {
   "cell_type": "code",
   "execution_count": 19,
   "metadata": {},
   "outputs": [],
   "source": [
    "def get_probability_estimates(X_test, y_test, models, names):\n",
    "    '''\n",
    "    return dataframe of probability estimates for models\n",
    "    '''\n",
    "    dic_probestimates = {}\n",
    "    for model, name in zip(models, names):\n",
    "        # predict y of test data\n",
    "        y_pred = model.predict(X_test)\n",
    "        probability_estimates = model.predict_proba(X_test)\n",
    "        # take probability estimates for class 1\n",
    "        probability_estimates_1 = probability_estimates[:,1]\n",
    "        dic_probestimates[name] = probability_estimates_1    \n",
    "    df_prob_estimates = pd.DataFrame(dic_probestimates)\n",
    "    \n",
    "    return df_prob_estimates\n",
    "\n",
    "def get_y_predictions(X_test, y_test, models, names):\n",
    "    '''\n",
    "    return dataframe of y predictions for models\n",
    "    '''\n",
    "    dic_ypred = {}\n",
    "    for model, name in zip(models, names):\n",
    "        # predict y of test data\n",
    "        y_pred = model.predict(X_test)\n",
    "    \n",
    "        dic_ypred[name] = y_pred    \n",
    "        df_predictions = pd.DataFrame(dic_ypred)\n",
    "    df_predictions['True'] = y_test\n",
    "    \n",
    "    return df_predictions"
   ]
  },
  {
   "cell_type": "code",
   "execution_count": 20,
   "metadata": {},
   "outputs": [
    {
     "name": "stdout",
     "output_type": "stream",
     "text": [
      "Probability Estimates for Ridge, Lasso and ElasticNet with and without Cross Validation\n",
      "\n"
     ]
    },
    {
     "data": {
      "text/html": [
       "<div>\n",
       "<style scoped>\n",
       "    .dataframe tbody tr th:only-of-type {\n",
       "        vertical-align: middle;\n",
       "    }\n",
       "\n",
       "    .dataframe tbody tr th {\n",
       "        vertical-align: top;\n",
       "    }\n",
       "\n",
       "    .dataframe thead th {\n",
       "        text-align: right;\n",
       "    }\n",
       "</style>\n",
       "<table border=\"1\" class=\"dataframe\">\n",
       "  <thead>\n",
       "    <tr style=\"text-align: right;\">\n",
       "      <th></th>\n",
       "      <th>Ridge</th>\n",
       "      <th>Lasso</th>\n",
       "      <th>ElasticNet</th>\n",
       "      <th>RidgeCV</th>\n",
       "      <th>LassoCV</th>\n",
       "      <th>ElasticNetCV</th>\n",
       "    </tr>\n",
       "  </thead>\n",
       "  <tbody>\n",
       "    <tr>\n",
       "      <th>0</th>\n",
       "      <td>0.017326</td>\n",
       "      <td>0.056502</td>\n",
       "      <td>0.475040</td>\n",
       "      <td>0.002309</td>\n",
       "      <td>0.056502</td>\n",
       "      <td>0.426994</td>\n",
       "    </tr>\n",
       "    <tr>\n",
       "      <th>1</th>\n",
       "      <td>0.711429</td>\n",
       "      <td>0.038167</td>\n",
       "      <td>0.947251</td>\n",
       "      <td>0.842936</td>\n",
       "      <td>0.038167</td>\n",
       "      <td>0.892885</td>\n",
       "    </tr>\n",
       "    <tr>\n",
       "      <th>2</th>\n",
       "      <td>0.020866</td>\n",
       "      <td>0.032663</td>\n",
       "      <td>0.444765</td>\n",
       "      <td>0.003519</td>\n",
       "      <td>0.032663</td>\n",
       "      <td>0.410236</td>\n",
       "    </tr>\n",
       "    <tr>\n",
       "      <th>3</th>\n",
       "      <td>0.000155</td>\n",
       "      <td>0.037223</td>\n",
       "      <td>0.067884</td>\n",
       "      <td>0.000002</td>\n",
       "      <td>0.037223</td>\n",
       "      <td>0.099355</td>\n",
       "    </tr>\n",
       "    <tr>\n",
       "      <th>4</th>\n",
       "      <td>0.810687</td>\n",
       "      <td>0.989451</td>\n",
       "      <td>0.981502</td>\n",
       "      <td>0.938798</td>\n",
       "      <td>0.989451</td>\n",
       "      <td>0.956796</td>\n",
       "    </tr>\n",
       "  </tbody>\n",
       "</table>\n",
       "</div>"
      ],
      "text/plain": [
       "      Ridge     Lasso  ElasticNet   RidgeCV   LassoCV  ElasticNetCV\n",
       "0  0.017326  0.056502    0.475040  0.002309  0.056502      0.426994\n",
       "1  0.711429  0.038167    0.947251  0.842936  0.038167      0.892885\n",
       "2  0.020866  0.032663    0.444765  0.003519  0.032663      0.410236\n",
       "3  0.000155  0.037223    0.067884  0.000002  0.037223      0.099355\n",
       "4  0.810687  0.989451    0.981502  0.938798  0.989451      0.956796"
      ]
     },
     "execution_count": 20,
     "metadata": {},
     "output_type": "execute_result"
    }
   ],
   "source": [
    "print('Probability Estimates for Ridge, Lasso and ElasticNet with and without Cross Validation\\n')\n",
    "df_prob_estimates = get_probability_estimates(X_test, y_test, [ridge, lasso, elasticNet, ridge_cv, lasso_cv, elasticNet_cv],\n",
    "                                              ['Ridge','Lasso','ElasticNet', 'RidgeCV', 'LassoCV', 'ElasticNetCV'] )\n",
    "df_prob_estimates.head()"
   ]
  },
  {
   "cell_type": "code",
   "execution_count": 21,
   "metadata": {},
   "outputs": [
    {
     "name": "stdout",
     "output_type": "stream",
     "text": [
      "Predicted y values for Ridge, Lasso and ElasticNet with and without Cross Validation\n",
      "\n"
     ]
    },
    {
     "data": {
      "text/html": [
       "<div>\n",
       "<style scoped>\n",
       "    .dataframe tbody tr th:only-of-type {\n",
       "        vertical-align: middle;\n",
       "    }\n",
       "\n",
       "    .dataframe tbody tr th {\n",
       "        vertical-align: top;\n",
       "    }\n",
       "\n",
       "    .dataframe thead th {\n",
       "        text-align: right;\n",
       "    }\n",
       "</style>\n",
       "<table border=\"1\" class=\"dataframe\">\n",
       "  <thead>\n",
       "    <tr style=\"text-align: right;\">\n",
       "      <th></th>\n",
       "      <th>Ridge</th>\n",
       "      <th>Lasso</th>\n",
       "      <th>ElasticNet</th>\n",
       "      <th>RidgeCV</th>\n",
       "      <th>LassoCV</th>\n",
       "      <th>ElasticNetCV</th>\n",
       "      <th>True</th>\n",
       "    </tr>\n",
       "  </thead>\n",
       "  <tbody>\n",
       "    <tr>\n",
       "      <th>0</th>\n",
       "      <td>0</td>\n",
       "      <td>0</td>\n",
       "      <td>0</td>\n",
       "      <td>0</td>\n",
       "      <td>0</td>\n",
       "      <td>0</td>\n",
       "      <td>0</td>\n",
       "    </tr>\n",
       "    <tr>\n",
       "      <th>1</th>\n",
       "      <td>1</td>\n",
       "      <td>0</td>\n",
       "      <td>1</td>\n",
       "      <td>1</td>\n",
       "      <td>0</td>\n",
       "      <td>1</td>\n",
       "      <td>1</td>\n",
       "    </tr>\n",
       "    <tr>\n",
       "      <th>2</th>\n",
       "      <td>0</td>\n",
       "      <td>0</td>\n",
       "      <td>0</td>\n",
       "      <td>0</td>\n",
       "      <td>0</td>\n",
       "      <td>0</td>\n",
       "      <td>0</td>\n",
       "    </tr>\n",
       "    <tr>\n",
       "      <th>3</th>\n",
       "      <td>0</td>\n",
       "      <td>0</td>\n",
       "      <td>0</td>\n",
       "      <td>0</td>\n",
       "      <td>0</td>\n",
       "      <td>0</td>\n",
       "      <td>0</td>\n",
       "    </tr>\n",
       "    <tr>\n",
       "      <th>4</th>\n",
       "      <td>1</td>\n",
       "      <td>1</td>\n",
       "      <td>1</td>\n",
       "      <td>1</td>\n",
       "      <td>1</td>\n",
       "      <td>1</td>\n",
       "      <td>1</td>\n",
       "    </tr>\n",
       "  </tbody>\n",
       "</table>\n",
       "</div>"
      ],
      "text/plain": [
       "   Ridge  Lasso  ElasticNet  RidgeCV  LassoCV  ElasticNetCV  True\n",
       "0      0      0           0        0        0             0     0\n",
       "1      1      0           1        1        0             1     1\n",
       "2      0      0           0        0        0             0     0\n",
       "3      0      0           0        0        0             0     0\n",
       "4      1      1           1        1        1             1     1"
      ]
     },
     "execution_count": 21,
     "metadata": {},
     "output_type": "execute_result"
    }
   ],
   "source": [
    "print('Predicted y values for Ridge, Lasso and ElasticNet with and without Cross Validation\\n')\n",
    "df_predictions = get_y_predictions(X_test, y_test, [ridge, lasso, elasticNet, ridge_cv, lasso_cv, elasticNet_cv],\n",
    "                                              ['Ridge','Lasso','ElasticNet', 'RidgeCV', 'LassoCV', 'ElasticNetCV'] )\n",
    "df_predictions.head()"
   ]
  },
  {
   "cell_type": "markdown",
   "metadata": {},
   "source": [
    "## Classification performance measure"
   ]
  },
  {
   "cell_type": "code",
   "execution_count": 27,
   "metadata": {},
   "outputs": [
    {
     "name": "stdout",
     "output_type": "stream",
     "text": [
      "Confusion matrix, without normalization\n",
      "[[10  0]\n",
      " [ 2 10]]\n",
      "Confusion matrix, without normalization\n",
      "[[10  0]\n",
      " [ 1 11]]\n",
      "Confusion matrix, without normalization\n",
      "[[10  0]\n",
      " [ 4  8]]\n",
      "Confusion matrix, without normalization\n",
      "[[10  0]\n",
      " [ 4  8]]\n",
      "Confusion matrix, without normalization\n",
      "[[10  0]\n",
      " [ 0 12]]\n",
      "Confusion matrix, without normalization\n",
      "[[10  0]\n",
      " [ 0 12]]\n"
     ]
    },
    {
     "data": {
      "image/png": "[encoded data removed]",
      "text/plain": [
       "<Figure size 432x288 with 2 Axes>"
      ]
     },
     "metadata": {},
     "output_type": "display_data"
    },
    {
     "data": {
      "image/png": "[encoded data removed]",
      "text/plain": [
       "<Figure size 432x288 with 2 Axes>"
      ]
     },
     "metadata": {},
     "output_type": "display_data"
    },
    {
     "data": {
      "image/png": "[encoded data removed]",
      "text/plain": [
       "<Figure size 432x288 with 2 Axes>"
      ]
     },
     "metadata": {},
     "output_type": "display_data"
    },
    {
     "data": {
      "image/png": "[encoded data removed]",
      "text/plain": [
       "<Figure size 432x288 with 2 Axes>"
      ]
     },
     "metadata": {},
     "output_type": "display_data"
    },
    {
     "data": {
      "image/png": "[encoded data removed]",
      "text/plain": [
       "<Figure size 432x288 with 2 Axes>"
      ]
     },
     "metadata": {},
     "output_type": "display_data"
    },
    {
     "data": {
      "image/png": "[encoded data removed]",
      "text/plain": [
       "<Figure size 432x288 with 2 Axes>"
      ]
     },
     "metadata": {},
     "output_type": "display_data"
    }
   ],
   "source": [
    "# Confusion matrix\n",
    "\n",
    "for model, name in zip([ridge, ridge_cv, lasso, lasso_cv, elasticNet, elasticNet_cv],\n",
    "                                              ['Ridge','Ridge_CV', 'Lasso','Lasso_CV', 'ElasticNet', 'ElasticNet_CV']):\n",
    "    \n",
    "    # predict y of test data\n",
    "    y_pred = model.predict(X_test)\n",
    "\n",
    "    \n",
    "    # Plot non-normalized confusion matrix\n",
    "    ax1_ = plot_confusion_matrix(df_predictions['True'], y_pred, classes=[0,1],\n",
    "                       title=f'Confusion matrix for {name} classifier, without normalization')\n",
    "\n",
    "    # Plot normalized confusion matrix\n",
    "    #ax2_ = plot_confusion_matrix(df_predictions['True'], y_pred, classes=[0,1], normalize=True,\n",
    "     #                     title=f'Normalized confusion matrix for {name} classifier')"
   ]
  },
  {
   "cell_type": "code",
   "execution_count": 26,
   "metadata": {
    "jupyter": {
     "source_hidden": true
    }
   },
   "outputs": [],
   "source": [
    "def plot_confusion_matrix(y_true, y_pred, classes,\n",
    "                          normalize=False,\n",
    "                          title=None,\n",
    "                          cmap=plt.cm.Blues):\n",
    "    \"\"\"\n",
    "    This function prints and plots the confusion matrix.\n",
    "    Normalization can be applied by setting `normalize=True`.\n",
    "    \"\"\"\n",
    "    if not title:\n",
    "        if normalize:\n",
    "            title = 'Normalized confusion matrix'\n",
    "        else:\n",
    "            title = 'Confusion matrix, without normalization'\n",
    "\n",
    "    # Compute confusion matrix\n",
    "    cm = confusion_matrix(y_true, y_pred)\n",
    "    # Only use the labels that appear in the data\n",
    "    #classes = classes[unique_labels(y_true, y_pred)]\n",
    "    if normalize:\n",
    "        cm = cm.astype('float') / cm.sum(axis=1)[:, np.newaxis]\n",
    "        print(\"Normalized confusion matrix\")\n",
    "    else:\n",
    "        print('Confusion matrix, without normalization')\n",
    "\n",
    "    print(cm)\n",
    "\n",
    "    fig, ax = plt.subplots()\n",
    "    im = ax.imshow(cm, interpolation='nearest', cmap=cmap)\n",
    "    ax.figure.colorbar(im, ax=ax)\n",
    "    # We want to show all ticks...\n",
    "    ax.set(xticks=np.arange(cm.shape[1]),\n",
    "           yticks=np.arange(cm.shape[0]),\n",
    "           # ... and label them with the respective list entries\n",
    "           xticklabels=classes, yticklabels=classes,\n",
    "           title=title,\n",
    "           ylabel='True label',\n",
    "           xlabel='Predicted label')\n",
    "\n",
    "    # Rotate the tick labels and set their alignment.\n",
    "    plt.setp(ax.get_xticklabels(), rotation=45, ha=\"right\",\n",
    "             rotation_mode=\"anchor\")\n",
    "\n",
    "    # Loop over data dimensions and create text annotations.\n",
    "    fmt = '.2f' if normalize else 'd'\n",
    "    thresh = cm.max() / 2.\n",
    "    for i in range(cm.shape[0]):\n",
    "        for j in range(cm.shape[1]):\n",
    "            ax.text(j, i, format(cm[i, j], fmt), fontsize = 15,\n",
    "                    ha=\"center\", va=\"center\",\n",
    "                    color=\"white\" if cm[i, j] > thresh else \"black\")\n",
    "    fig.tight_layout()\n",
    "    return ax"
   ]
  },
  {
   "cell_type": "code",
   "execution_count": null,
   "metadata": {},
   "outputs": [],
   "source": [
    "metrics.pre"
   ]
  },
  {
   "cell_type": "code",
   "execution_count": 37,
   "metadata": {},
   "outputs": [
    {
     "data": {
      "image/png": "[encoded data removed]",
      "text/plain": [
       "<Figure size 1080x720 with 6 Axes>"
      ]
     },
     "metadata": {},
     "output_type": "display_data"
    }
   ],
   "source": [
    "from sklearn.metrics import precision_recall_curve\n",
    "import matplotlib.pyplot as plt\n",
    "from inspect import signature\n",
    "\n",
    "\n",
    "plt.figure(figsize=(15,10))\n",
    "i = 1\n",
    "\n",
    "for model, name in zip([ridge, lasso, elasticNet, ridge_cv, lasso_cv, elasticNet_cv],\n",
    "                                              ['Ridge','Lasso','ElasticNet', 'RidgeCV', 'LassoCV', 'ElasticNetCV']):\n",
    "    pos = int('23'+str(i))\n",
    "    plt.subplot(pos)\n",
    "    precision, recall, _ = precision_recall_curve(df_predictions['True'], df_prob_estimates[name])\n",
    "    #print('precision ', precision)\n",
    "    #print('recall ', recall)\n",
    "    average_precision = metrics.average_precision_score(df_predictions['True'], df_prob_estimates[name])\n",
    "\n",
    "    step_kwargs = ({'step': 'post'}\n",
    "                   if 'step' in signature(plt.fill_between).parameters\n",
    "                   else {})\n",
    "    plt.step(recall, precision, color='b', alpha=0.2,\n",
    "             where='post',)\n",
    "    plt.fill_between(recall, precision, alpha=0.2, color='b', **step_kwargs)\n",
    "\n",
    "    plt.xlabel('Recall')\n",
    "    plt.ylabel('Precision')\n",
    "    plt.ylim([0.0, 1.05])\n",
    "    plt.xlim([0.0, 1.0])\n",
    "    plt.title(f'{name}\\nPrecision-Recall curve: AP={average_precision:2.2}')\n",
    "    i += 1\n",
    "    \n",
    "    \n"
   ]
  },
  {
   "cell_type": "markdown",
   "metadata": {},
   "source": [
    "## Compare the performance of the ready optimized models on test data\n",
    "### How much does the performance on test data differ from the CV performance achieved on training data?"
   ]
  },
  {
   "cell_type": "code",
   "execution_count": 38,
   "metadata": {},
   "outputs": [
    {
     "data": {
      "text/html": [
       "<div>\n",
       "<style scoped>\n",
       "    .dataframe tbody tr th:only-of-type {\n",
       "        vertical-align: middle;\n",
       "    }\n",
       "\n",
       "    .dataframe tbody tr th {\n",
       "        vertical-align: top;\n",
       "    }\n",
       "\n",
       "    .dataframe thead th {\n",
       "        text-align: right;\n",
       "    }\n",
       "</style>\n",
       "<table border=\"1\" class=\"dataframe\">\n",
       "  <thead>\n",
       "    <tr style=\"text-align: right;\">\n",
       "      <th></th>\n",
       "      <th>Ridge</th>\n",
       "      <th>RidgeCV</th>\n",
       "      <th>Lasso</th>\n",
       "      <th>LassoCV</th>\n",
       "      <th>ElasticNet</th>\n",
       "      <th>ElasticNetCV</th>\n",
       "    </tr>\n",
       "  </thead>\n",
       "  <tbody>\n",
       "    <tr>\n",
       "      <th>F1 neg</th>\n",
       "      <td>0.909091</td>\n",
       "      <td>0.952381</td>\n",
       "      <td>0.833333</td>\n",
       "      <td>0.833333</td>\n",
       "      <td>1.0</td>\n",
       "      <td>1.0</td>\n",
       "    </tr>\n",
       "    <tr>\n",
       "      <th>F1 pos</th>\n",
       "      <td>0.909091</td>\n",
       "      <td>0.956522</td>\n",
       "      <td>0.800000</td>\n",
       "      <td>0.800000</td>\n",
       "      <td>1.0</td>\n",
       "      <td>1.0</td>\n",
       "    </tr>\n",
       "    <tr>\n",
       "      <th>MCC</th>\n",
       "      <td>0.833333</td>\n",
       "      <td>0.912871</td>\n",
       "      <td>0.690066</td>\n",
       "      <td>0.690066</td>\n",
       "      <td>1.0</td>\n",
       "      <td>1.0</td>\n",
       "    </tr>\n",
       "  </tbody>\n",
       "</table>\n",
       "</div>"
      ],
      "text/plain": [
       "           Ridge   RidgeCV     Lasso   LassoCV  ElasticNet  ElasticNetCV\n",
       "F1 neg  0.909091  0.952381  0.833333  0.833333         1.0           1.0\n",
       "F1 pos  0.909091  0.956522  0.800000  0.800000         1.0           1.0\n",
       "MCC     0.833333  0.912871  0.690066  0.690066         1.0           1.0"
      ]
     },
     "execution_count": 38,
     "metadata": {},
     "output_type": "execute_result"
    }
   ],
   "source": [
    "dic_metrics = {}\n",
    "\n",
    "for model, name in zip([ridge, ridge_cv, lasso, lasso_cv, elasticNet, elasticNet_cv],\n",
    "                                              ['Ridge','RidgeCV', 'Lasso','LassoCV', 'ElasticNet', 'ElasticNetCV']):\n",
    "    #recall = metrics.recall_score(df_predictions['True'], df_prob_estimates['ProbEstimate: '+name])\n",
    "    #precision = metrics.precision_score(df_predictions['True'], df_prob_estimates['ProbEstimate: '+name])\n",
    "    mcc = metrics.matthews_corrcoef(df_predictions['True'], df_predictions[name])\n",
    "    f1_pos = metrics.f1_score(df_predictions['True'], df_predictions[name])\n",
    "    f1_neg = metrics.f1_score(df_predictions['True'], df_predictions[name], pos_label = 0)\n",
    "    precision = metrics.precision_score(df_predictions['True'], df_predictions[name])\n",
    "    recall = metrics.recall_score(df_predictions['True'], df_predictions[name])\n",
    "    dic_metrics[name] = {}\n",
    "    dic_metrics[name]['MCC'] = mcc\n",
    "    dic_metrics[name]['F1 pos'] = f1_pos\n",
    "    dic_metrics[name]['F1 neg'] = f1_neg\n",
    "df_metrics = pd.DataFrame(dic_metrics)\n",
    "df_metrics"
   ]
  },
  {
   "cell_type": "markdown",
   "metadata": {},
   "source": [
    "Matthews Correlation coefficient:\n",
    "\n",
    "A coefficient of +1 represents a perfect prediction, 0 an average random prediction and -1 an inverse prediction"
   ]
  },
  {
   "cell_type": "markdown",
   "metadata": {},
   "source": [
    "## Resources used:\n",
    "\n",
    "https://towardsdatascience.com/regularization-in-machine-learning-76441ddcf99a\n",
    "\n",
    "https://www.pluralsight.com/guides/linear-lasso-ridge-regression-scikit-learn\n",
    "\n",
    "https://www.dataquest.io/blog/understanding-regression-error-metrics/\n",
    "\n",
    "https://scikit-learn.org/stable/auto_examples/model_selection/plot_confusion_matrix.html\n",
    "\n",
    "https://scikit-learn.org/stable/auto_examples/model_selection/plot_precision_recall.html#sphx-glr-auto-examples-model-selection-plot-precision-recall-py\n",
    "\n"
   ]
  },
  {
   "cell_type": "code",
   "execution_count": null,
   "metadata": {},
   "outputs": [],
   "source": []
  }
 ],
 "metadata": {
  "kernelspec": {
   "display_name": "Python 3",
   "language": "python",
   "name": "python3"
  },
  "language_info": {
   "codemirror_mode": {
    "name": "ipython",
    "version": 3
   },
   "file_extension": ".py",
   "mimetype": "text/x-python",
   "name": "python",
   "nbconvert_exporter": "python",
   "pygments_lexer": "ipython3",
   "version": "3.7.3"
  }
 },
 "nbformat": 4,
 "nbformat_minor": 4
}
