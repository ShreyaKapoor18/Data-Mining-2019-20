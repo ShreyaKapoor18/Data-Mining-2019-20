{
 "cells": [
  {
   "cell_type": "code",
   "execution_count": 40,
   "metadata": {},
   "outputs": [],
   "source": [
    "import pandas as pd\n",
    "import numpy as np\n",
    "import seaborn as sns\n",
    "import matplotlib.pyplot as plt\n",
    "import scipy.stats as st\n",
    "from collections import Counter"
   ]
  },
  {
   "cell_type": "code",
   "execution_count": 11,
   "metadata": {},
   "outputs": [],
   "source": [
    "for file in ['long-beach-va.data', 'switzerland.data', \n",
    "             'cleveland.data', 'hungarian.data']:\n",
    "    line = ''\n",
    "    lines = []\n",
    "    with open(file, 'r') as f:\n",
    "        for l in f.readlines():\n",
    "            l = l.replace('\\n', '').replace(' ', '\\t')\n",
    "            line += l\n",
    "            if 'name' == l[-4:]:\n",
    "                lines.append(line)\n",
    "                line = ''\n",
    "    with open(f'processed.{file}', 'w') as f:\n",
    "        for line in lines:\n",
    "            print(line, file=f)"
   ]
  },
  {
   "cell_type": "code",
   "execution_count": 87,
   "metadata": {},
   "outputs": [],
   "source": [
    "columns = [\"id\", \"ccf\", \"age\", \"sex\", \"painexer\", \"relrest\", \"pncaden\", \"cp\", \"trestbps\", \"htn\", \"chol\", \n",
    "           \"smoke\", \"cigs\", \"years\", \"fbs\", \"dm\", \"famhist\", \"restecg\", \"ekgmo\", \"ekgday\", \"ekgyr\", \"dig\", \n",
    "           \"prop\", \"nitr\", \"pro\", \"diuretic\", \"proto\", \"thaldur\", \"thaltime\", \"met\", \"thalach\", \"thalrest\", \n",
    "           \"tpeakbps\", \"tpeakbpd\", \"dummy\", \"trestbpd\", \"exang\", \"xhypo\", \"oldpeak\", \"slope\", \"rldv5\", \"rldv5e\", \n",
    "           \"ca\", \"restckm\", \"exerckm\", \"restef\", \"restwm\", \"exeref\", \"exerwm\", \"thal\", \"thalsev\", \"thalpul\", \"cmo\", \n",
    "           \"cday\", \"cyr\", \"num\", \"lmt\", \"ladprox\", \"laddist\", \"diag\", \"cxmain\", \"ramus\", \"om1\", \"om2\", \"rcaprox\", \n",
    "           \"rcadist\", \"name\"]\n",
    "\n",
    "data = np.zeros((1, len(columns)))\n",
    "\n",
    "for file in ['processed.long-beach-va.data', 'processed.switzerland.data', \n",
    "             'processed.cleveland.data', 'processed.hungarian.data']:\n",
    "    data = np.vstack((data, np.genfromtxt(file, delimiter='\\t')))\n",
    "data = data[1:]\n",
    "df = pd.DataFrame(data=data, columns=columns, index=None)\n",
    "df.to_csv('df.csv', sep='\\t', index=False)"
   ]
  },
  {
   "cell_type": "code",
   "execution_count": 88,
   "metadata": {},
   "outputs": [],
   "source": [
    "smoke_data = df[df.smoke != -9]"
   ]
  },
  {
   "cell_type": "code",
   "execution_count": 89,
   "metadata": {},
   "outputs": [
    {
     "data": {
      "text/plain": [
       "<matplotlib.axes._subplots.AxesSubplot at 0x1258a7e50>"
      ]
     },
     "execution_count": 89,
     "metadata": {},
     "output_type": "execute_result"
    },
    {
     "data": {
      "image/png": "[encoded data removed]",
      "text/plain": [
       "<Figure size 432x288 with 1 Axes>"
      ]
     },
     "metadata": {
      "needs_background": "light"
     },
     "output_type": "display_data"
    }
   ],
   "source": [
    "smoker = smoke_data[smoke_data['smoke'] == 1.0].copy()\n",
    "non_smoker = smoke_data[smoke_data['smoke'] == 0.0].copy()\n",
    "\n",
    "smoker_chol = smoker[(smoker.chol != 0.0) & (smoker.chol != -9.0)].chol.values\n",
    "non_smoker_chol = non_smoker[(non_smoker.chol != 0.0) & (non_smoker.chol != -9.0)].chol.values\n",
    "\n",
    "label = ['Smoker'] * len(smoker_chol)\n",
    "label.extend(['Non Smoker'] * len(non_smoker_chol))\n",
    "chol = np.append(smoker_chol, non_smoker_chol)\n",
    "\n",
    "plt_data = pd.DataFrame()\n",
    "plt_data['label'] = label\n",
    "plt_data['chol'] = chol\n",
    "\n",
    "sns.violinplot(x='label', y='chol', data=plt_data)"
   ]
  },
  {
   "cell_type": "code",
   "execution_count": 94,
   "metadata": {},
   "outputs": [
    {
     "data": {
      "text/plain": [
       "(115, 4)"
      ]
     },
     "execution_count": 94,
     "metadata": {},
     "output_type": "execute_result"
    }
   ],
   "source": [
    "len(smoker[smoker.sex == 1.0]), len(smoker[smoker.sex == 0.0])"
   ]
  },
  {
   "cell_type": "code",
   "execution_count": 101,
   "metadata": {},
   "outputs": [],
   "source": [
    "columns = ['age','sex','cp','trestbps','chol','fbs','restecg',\n",
    "           'thalach','exang','oldpeak','slope','ca','thal','num']\n",
    "\n",
    "data = np.zeros((1, len(columns)))\n",
    "\n",
    "for file in ['processed.va.csv', 'processed.switzerland.csv',\n",
    "             'processed.cleveland.csv', 'processed.hungarian.csv']:\n",
    "    data = np.vstack((data, np.genfromtxt(file, delimiter=',')))\n",
    "data = data[1:]\n",
    "df2 = pd.DataFrame(data=data, columns=columns, index=None)\n",
    "df2.to_csv('df2.csv', sep='\\t', index=False)"
   ]
  },
  {
   "cell_type": "code",
   "execution_count": 130,
   "metadata": {},
   "outputs": [
    {
     "name": "stdout",
     "output_type": "stream",
     "text": [
      "SpearmanrResult(correlation=0.1634586633405676, pvalue=1.5920970149117585e-06)\n"
     ]
    }
   ],
   "source": [
    "plt_data = df2[(~df2.oldpeak.isna()) & (~df2.trestbps.isna()) & (df2.trestbps != 0.0)].copy()\n",
    "\n",
    "corr = st.spearmanr(plt_data.oldpeak.values, plt_data.trestbps.values)\n",
    "\n",
    "print(corr)"
   ]
  },
  {
   "cell_type": "code",
   "execution_count": 133,
   "metadata": {},
   "outputs": [
    {
     "data": {
      "text/plain": [
       "(20.0092509101658,\n",
       " 0.002758915352004314,\n",
       " 6,\n",
       " array([[ 27.00980392, 104.4379085 , 122.44444444, 297.10784314],\n",
       "        [  8.7745098 ,  33.92810458,  39.77777778,  96.51960784],\n",
       "        [  9.21568627,  35.63398693,  41.77777778, 101.37254902]]))"
      ]
     },
     "execution_count": 133,
     "metadata": {},
     "output_type": "execute_result"
    }
   ],
   "source": [
    "data = df2[(~df2.cp.isna()) & (~df2.restecg.isna())].copy()\n",
    "crosstab = pd.crosstab(data.restecg, data.cp)\n",
    "st.chi2_contingency(crosstab)"
   ]
  }
 ],
 "metadata": {
  "kernelspec": {
   "display_name": "Python 3",
   "language": "python",
   "name": "python3"
  },
  "language_info": {
   "codemirror_mode": {
    "name": "ipython",
    "version": 3
   },
   "file_extension": ".py",
   "mimetype": "text/x-python",
   "name": "python",
   "nbconvert_exporter": "python",
   "pygments_lexer": "ipython3",
   "version": "3.7.4"
  }
 },
 "nbformat": 4,
 "nbformat_minor": 2
}
